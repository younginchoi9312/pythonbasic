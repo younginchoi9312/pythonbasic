{
  "nbformat": 4,
  "nbformat_minor": 0,
  "metadata": {
    "colab": {
      "name": "Untitled3.ipynb",
      "provenance": [],
      "authorship_tag": "ABX9TyMXUb2/RdGVu2fmYX/Prwk/",
      "include_colab_link": true
    },
    "kernelspec": {
      "name": "python3",
      "display_name": "Python 3"
    }
  },
  "cells": [
    {
      "cell_type": "markdown",
      "metadata": {
        "id": "view-in-github",
        "colab_type": "text"
      },
      "source": [
        "<a href=\"https://colab.research.google.com/github/younginchoi9312/pythonbasic/blob/main/20210226%20question.ipynb\" target=\"_parent\"><img src=\"https://colab.research.google.com/assets/colab-badge.svg\" alt=\"Open In Colab\"/></a>"
      ]
    },
    {
      "cell_type": "code",
      "metadata": {
        "colab": {
          "base_uri": "https://localhost:8080/"
        },
        "id": "tUHgUHL0x_u4",
        "outputId": "5d488bea-4a3b-45b9-f8da-097a2b823172"
      },
      "source": [
        "a = map(int,input().split())\r\n",
        "\r\n",
        "print(a)"
      ],
      "execution_count": 1,
      "outputs": [
        {
          "output_type": "stream",
          "text": [
            "70 100\n",
            "<map object at 0x7f2e147776d0>\n"
          ],
          "name": "stdout"
        }
      ]
    },
    {
      "cell_type": "code",
      "metadata": {
        "colab": {
          "base_uri": "https://localhost:8080/"
        },
        "id": "uNdB0ptC2PBO",
        "outputId": "0a515a95-88d9-49bf-9859-5221fe79f36d"
      },
      "source": [
        "a = [1,2,3,4]\r\n",
        "b = [100,200,300,400]\r\n",
        "\r\n",
        "print(list(zip(a,b)))"
      ],
      "execution_count": 2,
      "outputs": [
        {
          "output_type": "stream",
          "text": [
            "[(1, 100), (2, 200), (3, 300), (4, 400)]\n"
          ],
          "name": "stdout"
        }
      ]
    },
    {
      "cell_type": "code",
      "metadata": {
        "colab": {
          "base_uri": "https://localhost:8080/",
          "height": 206
        },
        "id": "wY9KcZum3F5y",
        "outputId": "1f072ca6-dcd6-4553-fc69-ff527110050b"
      },
      "source": [
        "a = map(int,input().split())\r\n",
        "print(list(zip(a)))"
      ],
      "execution_count": 5,
      "outputs": [
        {
          "output_type": "stream",
          "text": [
            "Yujin Hyewon 70 100\n"
          ],
          "name": "stdout"
        },
        {
          "output_type": "error",
          "ename": "ValueError",
          "evalue": "ignored",
          "traceback": [
            "\u001b[0;31m---------------------------------------------------------------------------\u001b[0m",
            "\u001b[0;31mValueError\u001b[0m                                Traceback (most recent call last)",
            "\u001b[0;32m<ipython-input-5-418cde05ccbe>\u001b[0m in \u001b[0;36m<module>\u001b[0;34m()\u001b[0m\n\u001b[1;32m      1\u001b[0m \u001b[0ma\u001b[0m \u001b[0;34m=\u001b[0m \u001b[0mmap\u001b[0m\u001b[0;34m(\u001b[0m\u001b[0mint\u001b[0m\u001b[0;34m,\u001b[0m\u001b[0minput\u001b[0m\u001b[0;34m(\u001b[0m\u001b[0;34m)\u001b[0m\u001b[0;34m.\u001b[0m\u001b[0msplit\u001b[0m\u001b[0;34m(\u001b[0m\u001b[0;34m)\u001b[0m\u001b[0;34m)\u001b[0m\u001b[0;34m\u001b[0m\u001b[0;34m\u001b[0m\u001b[0m\n\u001b[0;32m----> 2\u001b[0;31m \u001b[0mprint\u001b[0m\u001b[0;34m(\u001b[0m\u001b[0mlist\u001b[0m\u001b[0;34m(\u001b[0m\u001b[0mzip\u001b[0m\u001b[0;34m(\u001b[0m\u001b[0ma\u001b[0m\u001b[0;34m)\u001b[0m\u001b[0;34m)\u001b[0m\u001b[0;34m)\u001b[0m\u001b[0;34m\u001b[0m\u001b[0;34m\u001b[0m\u001b[0m\n\u001b[0m",
            "\u001b[0;31mValueError\u001b[0m: invalid literal for int() with base 10: 'Yujin'"
          ]
        }
      ]
    },
    {
      "cell_type": "code",
      "metadata": {
        "colab": {
          "base_uri": "https://localhost:8080/"
        },
        "id": "8bkzqPde3c-8",
        "outputId": "818b8d25-7733-42c8-905b-e9894c551ae2"
      },
      "source": [
        "key = input().split() # quiz 27\r\n",
        "value = map(int, input().split())\r\n",
        "\r\n",
        "print(dict(zip(key,value)))"
      ],
      "execution_count": 7,
      "outputs": [
        {
          "output_type": "stream",
          "text": [
            "yujin hyewon\n",
            "70 100\n",
            "{'yujin': 70, 'hyewon': 100}\n"
          ],
          "name": "stdout"
        }
      ]
    },
    {
      "cell_type": "code",
      "metadata": {
        "colab": {
          "base_uri": "https://localhost:8080/"
        },
        "id": "bo9SZI9Y6D_M",
        "outputId": "2f72ae91-b265-49d6-8ff1-e6308799fc89"
      },
      "source": [
        "#quiz 28\r\n",
        "text = input()   # Python 6글자\r\n",
        "\r\n",
        "for i in range(len(text)-1): #len은 6글자 미만 0,1,2,3,4,5\r\n",
        "  print(text[i],text[i+1],sep='')\r\n"
      ],
      "execution_count": 12,
      "outputs": [
        {
          "output_type": "stream",
          "text": [
            "python\n",
            "py\n",
            "yt\n",
            "th\n",
            "ho\n",
            "on\n"
          ],
          "name": "stdout"
        }
      ]
    },
    {
      "cell_type": "code",
      "metadata": {
        "colab": {
          "base_uri": "https://localhost:8080/"
        },
        "id": "0iEQDHmfA2d2",
        "outputId": "16a40f4c-d5ed-4463-b9fa-de69c0882c24"
      },
      "source": [
        "#txt = input('알파벳을 입력하세요:') 29번 3가지방법\r\n",
        "\r\n",
        "#if txt.isupper():\r\n",
        "#  print('YES')\r\n",
        "#else:\r\n",
        "#  print('NO')\r\n",
        "\r\n",
        "txt = input()\r\n",
        "if ord(txt) >= 65 and ord(txt) <= 90: # if txt >= chr(65) and txt <=(90):\r\n",
        "  print('YES')\r\n",
        "else:\r\n",
        "  print('NO')"
      ],
      "execution_count": 23,
      "outputs": [
        {
          "output_type": "stream",
          "text": [
            "E\n",
            "YES\n"
          ],
          "name": "stdout"
        }
      ]
    },
    {
      "cell_type": "code",
      "metadata": {
        "colab": {
          "base_uri": "https://localhost:8080/"
        },
        "id": "fXF9n_P6CmOe",
        "outputId": "0326c1f4-3901-4ff8-93e9-abd182738994"
      },
      "source": [
        "#Q 30\r\n",
        "\r\n",
        "a = 'pineapple is yummy'\r\n",
        "\r\n",
        "print(a.find('apple')) # pint(a.index())  = erorr 출력"
      ],
      "execution_count": 24,
      "outputs": [
        {
          "output_type": "stream",
          "text": [
            "4\n"
          ],
          "name": "stdout"
        }
      ]
    },
    {
      "cell_type": "code",
      "metadata": {
        "colab": {
          "base_uri": "https://localhost:8080/"
        },
        "id": "B62UXnFtQYZN",
        "outputId": "f9b1c53c-b98c-4741-b92a-3967090cffac"
      },
      "source": [
        "txt = input()\r\n",
        "a = list(txt.split())\r\n",
        "print(len(a))"
      ],
      "execution_count": 41,
      "outputs": [
        {
          "output_type": "stream",
          "text": [
            "저 넓은\n",
            "2\n"
          ],
          "name": "stdout"
        }
      ]
    },
    {
      "cell_type": "code",
      "metadata": {
        "colab": {
          "base_uri": "https://localhost:8080/"
        },
        "id": "cIpoWxa7QjhH",
        "outputId": "f0c15e7d-d482-4814-9774-bbaa3a6d7980"
      },
      "source": [
        "txt = \"   빅데이터\"  #strip 양옆을 날려줌 빈칸\r\n",
        "print(txt.strip())"
      ],
      "execution_count": 42,
      "outputs": [
        {
          "output_type": "stream",
          "text": [
            "빅데이터\n"
          ],
          "name": "stdout"
        }
      ]
    },
    {
      "cell_type": "code",
      "metadata": {
        "colab": {
          "base_uri": "https://localhost:8080/"
        },
        "id": "tYobGPiOT2Lv",
        "outputId": "9db376e8-00e2-4141-c8fd-dd57bad84764"
      },
      "source": [
        "#q33\r\n",
        "txt = list(map(int,input().split()))\r\n",
        "a = txt.reverse()\r\n",
        "print(a)"
      ],
      "execution_count": 57,
      "outputs": [
        {
          "output_type": "stream",
          "text": [
            "1 2 3\n",
            "None\n"
          ],
          "name": "stdout"
        }
      ]
    },
    {
      "cell_type": "code",
      "metadata": {
        "colab": {
          "base_uri": "https://localhost:8080/"
        },
        "id": "9Fa7zpxRUYjZ",
        "outputId": "47bd3263-e120-43dd-e230-82010576446f"
      },
      "source": [
        "#q33\r\n",
        "txt = input()\r\n",
        "txt2 = list(txt.split())\r\n",
        "txt3 = [int(i) for i in txt2]\r\n",
        "\r\n",
        "for i in range(len(txt3)-1,-1,-1):\r\n",
        "  print(txt3[i], end= ' ')"
      ],
      "execution_count": 58,
      "outputs": [
        {
          "output_type": "stream",
          "text": [
            "1 2 3 4 5\n",
            "5 4 3 2 1 "
          ],
          "name": "stdout"
        }
      ]
    },
    {
      "cell_type": "code",
      "metadata": {
        "colab": {
          "base_uri": "https://localhost:8080/"
        },
        "id": "_huRm9sBcfCh",
        "outputId": "1db83ec9-06ac-4be1-c7a6-fedfd5c79bc6"
      },
      "source": [
        "list = [1,3,2]\r\n",
        "print(sorted(list))"
      ],
      "execution_count": 60,
      "outputs": [
        {
          "output_type": "stream",
          "text": [
            "[1, 2, 3]\n"
          ],
          "name": "stdout"
        }
      ]
    },
    {
      "cell_type": "code",
      "metadata": {
        "id": "PFha86FxdQLP"
      },
      "source": [
        "# <list>.sort()를 사용하면 원본 리스트 자체의 순서를 변화 but sorted(<list>) 는 사용하면 정렬된 리스트를 반환\r\n",
        "# <list>.sort()는 새로운 복사본을 만들지 않기 떄문에 sorted(<list>)보다 빠르다"
      ],
      "execution_count": null,
      "outputs": []
    },
    {
      "cell_type": "code",
      "metadata": {
        "colab": {
          "base_uri": "https://localhost:8080/"
        },
        "id": "ZDMygWxQfgFk",
        "outputId": "690411c0-c322-409a-cb43-138bec0fbcef"
      },
      "source": [
        "#Q34\r\n",
        "num1 = input()\r\n",
        "\r\n",
        "num2 = num1.strip().split()\r\n",
        "num3 = [int(i) for i in num2]\r\n",
        "\r\n",
        "if num3 != sorted(num3):\r\n",
        "  print(\"No\")\r\n",
        "else:\r\n",
        "  print(\"YES\")"
      ],
      "execution_count": 63,
      "outputs": [
        {
          "output_type": "stream",
          "text": [
            "1 2 3 5 4\n",
            "No\n"
          ],
          "name": "stdout"
        }
      ]
    },
    {
      "cell_type": "code",
      "metadata": {
        "colab": {
          "base_uri": "https://localhost:8080/"
        },
        "id": "ikABmXuOircG",
        "outputId": "d80d398e-8dfd-4461-d65d-3df88c873966"
      },
      "source": [
        "# Q 36\r\n",
        "num = int(input())\r\n",
        "for i in range(1,10,1):\r\n",
        "  print(num*i,end = \" \")\r\n"
      ],
      "execution_count": 81,
      "outputs": [
        {
          "output_type": "stream",
          "text": [
            "2\n",
            "2 4 6 8 10 12 14 16 18 "
          ],
          "name": "stdout"
        }
      ]
    },
    {
      "cell_type": "code",
      "metadata": {
        "colab": {
          "base_uri": "https://localhost:8080/",
          "height": 224
        },
        "id": "qbRO3Lu6jIl4",
        "outputId": "5b08f8bd-e073-4863-d06d-f90573a437a5"
      },
      "source": [
        "#Quiz 37\r\n",
        "\r\n",
        "\r\n",
        "# count 함수\r\n",
        "# 기본문법: 변수.count(찾는값)\r\n",
        "\r\n",
        "# a = 'ooyy'\r\n",
        "# a.count('y')\r\n",
        "\r\n",
        "name = [input('%s (이)가 총 %d표로 반장이 되었습니다.'% (name,sum)).split()]\r\n",
        "name.count()"
      ],
      "execution_count": 84,
      "outputs": [
        {
          "output_type": "stream",
          "text": [
            "후보를 입력하시오:김지영\n"
          ],
          "name": "stdout"
        },
        {
          "output_type": "error",
          "ename": "TypeError",
          "evalue": "ignored",
          "traceback": [
            "\u001b[0;31m---------------------------------------------------------------------------\u001b[0m",
            "\u001b[0;31mTypeError\u001b[0m                                 Traceback (most recent call last)",
            "\u001b[0;32m<ipython-input-84-1be83a5d4ebb>\u001b[0m in \u001b[0;36m<module>\u001b[0;34m()\u001b[0m\n\u001b[1;32m      9\u001b[0m \u001b[0;34m\u001b[0m\u001b[0m\n\u001b[1;32m     10\u001b[0m \u001b[0mname\u001b[0m \u001b[0;34m=\u001b[0m \u001b[0;34m[\u001b[0m\u001b[0minput\u001b[0m\u001b[0;34m(\u001b[0m\u001b[0;34m'후보를 입력하시오:'\u001b[0m\u001b[0;34m)\u001b[0m\u001b[0;34m.\u001b[0m\u001b[0msplit\u001b[0m\u001b[0;34m(\u001b[0m\u001b[0;34m)\u001b[0m\u001b[0;34m]\u001b[0m\u001b[0;34m\u001b[0m\u001b[0;34m\u001b[0m\u001b[0m\n\u001b[0;32m---> 11\u001b[0;31m \u001b[0mname\u001b[0m\u001b[0;34m.\u001b[0m\u001b[0mcount\u001b[0m\u001b[0;34m(\u001b[0m\u001b[0;34m)\u001b[0m\u001b[0;34m\u001b[0m\u001b[0;34m\u001b[0m\u001b[0m\n\u001b[0m",
            "\u001b[0;31mTypeError\u001b[0m: count() takes exactly one argument (0 given)"
          ]
        }
      ]
    },
    {
      "cell_type": "code",
      "metadata": {
        "colab": {
          "base_uri": "https://localhost:8080/",
          "height": 260
        },
        "id": "B2kLm4bo2_6-",
        "outputId": "5a2906fd-606b-48f9-8ada-f6879eecd5c3"
      },
      "source": [
        "a = input().split()\r\n",
        "b = list(set(a))\r\n",
        "\r\n",
        "max = 0\r\n",
        "\r\n",
        "for i in range(len(b)):\r\n",
        "  if a.count(b[i]) > a.count(b[max]):\r\n",
        "    max = i\r\n",
        "\r\n",
        "print(\"%s(이)가 총 %d표로 반장이 되었습니다.\"% (b[max], a.count(b[max])))\r\n"
      ],
      "execution_count": 86,
      "outputs": [
        {
          "output_type": "stream",
          "text": [
            "원영 원영 은비 은비 은비 은비 채연 채연\n"
          ],
          "name": "stdout"
        },
        {
          "output_type": "error",
          "ename": "TypeError",
          "evalue": "ignored",
          "traceback": [
            "\u001b[0;31m---------------------------------------------------------------------------\u001b[0m",
            "\u001b[0;31mTypeError\u001b[0m                                 Traceback (most recent call last)",
            "\u001b[0;32m<ipython-input-86-44ea87c3fcae>\u001b[0m in \u001b[0;36m<module>\u001b[0;34m()\u001b[0m\n\u001b[1;32m      1\u001b[0m \u001b[0ma\u001b[0m \u001b[0;34m=\u001b[0m \u001b[0minput\u001b[0m\u001b[0;34m(\u001b[0m\u001b[0;34m)\u001b[0m\u001b[0;34m.\u001b[0m\u001b[0msplit\u001b[0m\u001b[0;34m(\u001b[0m\u001b[0;34m)\u001b[0m\u001b[0;34m\u001b[0m\u001b[0;34m\u001b[0m\u001b[0m\n\u001b[0;32m----> 2\u001b[0;31m \u001b[0mb\u001b[0m \u001b[0;34m=\u001b[0m \u001b[0mlist\u001b[0m\u001b[0;34m(\u001b[0m\u001b[0mset\u001b[0m\u001b[0;34m(\u001b[0m\u001b[0ma\u001b[0m\u001b[0;34m)\u001b[0m\u001b[0;34m)\u001b[0m\u001b[0;34m\u001b[0m\u001b[0;34m\u001b[0m\u001b[0m\n\u001b[0m\u001b[1;32m      3\u001b[0m \u001b[0;34m\u001b[0m\u001b[0m\n\u001b[1;32m      4\u001b[0m \u001b[0mmax\u001b[0m \u001b[0;34m=\u001b[0m \u001b[0;36m0\u001b[0m\u001b[0;34m\u001b[0m\u001b[0;34m\u001b[0m\u001b[0m\n\u001b[1;32m      5\u001b[0m \u001b[0;34m\u001b[0m\u001b[0m\n",
            "\u001b[0;31mTypeError\u001b[0m: 'list' object is not callable"
          ]
        }
      ]
    },
    {
      "cell_type": "code",
      "metadata": {
        "colab": {
          "base_uri": "https://localhost:8080/"
        },
        "id": "vPVcEXkV9cB9",
        "outputId": "a195ec6d-67d9-41e0-88fd-65aa823710b1"
      },
      "source": [
        "#Q 38 오타 수정하기\r\n",
        "\r\n",
        "a = input()\r\n",
        "print(a.replace('q','e'))\r\n"
      ],
      "execution_count": 87,
      "outputs": [
        {
          "output_type": "stream",
          "text": [
            "ekwmowmfowmq\n",
            "ekwmowmfowme\n"
          ],
          "name": "stdout"
        }
      ]
    },
    {
      "cell_type": "code",
      "metadata": {
        "colab": {
          "base_uri": "https://localhost:8080/"
        },
        "id": "CA9DPOQEEPN2",
        "outputId": "5a6ccb1e-257d-4e13-e6b7-50c986d9d321"
      },
      "source": [
        "# Q41 소수판별\r\n",
        "\r\n",
        "a = int(input())\r\n",
        "\r\n",
        "re = 0 # re 변수 초기화\r\n",
        "\r\n",
        "for i in range(1, a+1):\r\n",
        "  if a % i == 0:\r\n",
        "    re += 1\r\n",
        "\r\n",
        "if re == 2:\r\n",
        "  print('YES')\r\n",
        "else:\r\n",
        "  print('NO')"
      ],
      "execution_count": 88,
      "outputs": [
        {
          "output_type": "stream",
          "text": [
            "1\n",
            "NO\n"
          ],
          "name": "stdout"
        }
      ]
    },
    {
      "cell_type": "code",
      "metadata": {
        "colab": {
          "base_uri": "https://localhost:8080/"
        },
        "id": "1Q5q-nS3KcxK",
        "outputId": "38a23c46-14d4-4a58-892a-83d1537b8495"
      },
      "source": [
        "#Q 44 각 자리수의 합\r\n",
        "\r\n",
        "n = list(map(int,input()))\r\n",
        "sum = 0\r\n",
        "for i in n:\r\n",
        "  sum += i\r\n",
        "print(sum)\r\n",
        "\r\n",
        "# sum = 0\r\n",
        "#"
      ],
      "execution_count": 1,
      "outputs": [
        {
          "output_type": "stream",
          "text": [
            "12345\n",
            "15\n"
          ],
          "name": "stdout"
        }
      ]
    },
    {
      "cell_type": "code",
      "metadata": {
        "id": "86tzwWDtUEfF"
      },
      "source": [
        "#Q46 str자료형\r\n",
        "sum = 0\r\n",
        "for i in list(range(21)):\r\n",
        "  for j in str(i):\r\n",
        "    sum += int(j)\r\n",
        "\r\n",
        "print(sum)\r\n",
        "\r\n",
        "# 변형: 임의수를 입력 받아서 계산하기로 변경"
      ],
      "execution_count": null,
      "outputs": []
    },
    {
      "cell_type": "markdown",
      "metadata": {
        "id": "37aS8u-Ff6Yb"
      },
      "source": [
        "# 새 섹션"
      ]
    }
  ]
}