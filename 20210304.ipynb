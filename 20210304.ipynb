{
  "nbformat": 4,
  "nbformat_minor": 0,
  "metadata": {
    "colab": {
      "name": "20210304.ipynb",
      "provenance": [],
      "authorship_tag": "ABX9TyOCSt7F/yaOuz/d2eEyz7Ix",
      "include_colab_link": true
    },
    "kernelspec": {
      "name": "python3",
      "display_name": "Python 3"
    }
  },
  "cells": [
    {
      "cell_type": "markdown",
      "metadata": {
        "id": "view-in-github",
        "colab_type": "text"
      },
      "source": [
        "<a href=\"https://colab.research.google.com/github/younginchoi9312/pythonbasic/blob/main/20210304.ipynb\" target=\"_parent\"><img src=\"https://colab.research.google.com/assets/colab-badge.svg\" alt=\"Open In Colab\"/></a>"
      ]
    },
    {
      "cell_type": "code",
      "metadata": {
        "id": "xNvieeFdWHpX",
        "colab": {
          "base_uri": "https://localhost:8080/"
        },
        "outputId": "a62b4923-a847-4d38-da37-5367e0033941"
      },
      "source": [
        "!pip install flask"
      ],
      "execution_count": 1,
      "outputs": [
        {
          "output_type": "stream",
          "text": [
            "Requirement already satisfied: flask in /usr/local/lib/python3.7/dist-packages (1.1.2)\n",
            "Requirement already satisfied: Werkzeug>=0.15 in /usr/local/lib/python3.7/dist-packages (from flask) (1.0.1)\n",
            "Requirement already satisfied: Jinja2>=2.10.1 in /usr/local/lib/python3.7/dist-packages (from flask) (2.11.3)\n",
            "Requirement already satisfied: click>=5.1 in /usr/local/lib/python3.7/dist-packages (from flask) (7.1.2)\n",
            "Requirement already satisfied: itsdangerous>=0.24 in /usr/local/lib/python3.7/dist-packages (from flask) (1.1.0)\n",
            "Requirement already satisfied: MarkupSafe>=0.23 in /usr/local/lib/python3.7/dist-packages (from Jinja2>=2.10.1->flask) (1.1.1)\n"
          ],
          "name": "stdout"
        }
      ]
    },
    {
      "cell_type": "code",
      "metadata": {
        "colab": {
          "base_uri": "https://localhost:8080/"
        },
        "id": "hzvn41LTWrY2",
        "outputId": "fa22cabc-7a66-4a1f-b7b1-3e563da0073d"
      },
      "source": [
        "from flask import Flask, render_template\r\n",
        "from vsearch2 import search4letters\r\n",
        "\r\n",
        "app = Flask(__name__)\r\n",
        "\r\n",
        "@app.route('/')\r\n",
        "def hello() -> str:\r\n",
        "    return 'Hello world from Flask!'\r\n",
        "\r\n",
        "\r\n",
        "@app.route('/search4')\r\n",
        "def do_search() -> str:\r\n",
        "    return str(search4letters('life, the universe and everyting','eiru!'))\r\n",
        "\r\n",
        "@app.route('/entry')\r\n",
        "def entry_page() -> 'html':\r\n",
        "    return render_template('entry.html',\r\n",
        "                          the_title=\"Welcome to search4letters on the web!\")\r\n",
        "\r\n",
        "app.run()\r\n"
      ],
      "execution_count": null,
      "outputs": [
        {
          "output_type": "stream",
          "text": [
            " * Serving Flask app \"__main__\" (lazy loading)\n",
            " * Environment: production\n",
            "\u001b[31m   WARNING: This is a development server. Do not use it in a production deployment.\u001b[0m\n",
            "\u001b[2m   Use a production WSGI server instead.\u001b[0m\n",
            " * Debug mode: off\n"
          ],
          "name": "stdout"
        },
        {
          "output_type": "stream",
          "text": [
            " * Running on http://127.0.0.1:5000/ (Press CTRL+C to quit)\n"
          ],
          "name": "stderr"
        }
      ]
    },
    {
      "cell_type": "code",
      "metadata": {
        "id": "ptIWAECHYrCV"
      },
      "source": [
        ""
      ],
      "execution_count": 4,
      "outputs": []
    }
  ]
}