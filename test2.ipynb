{
  "nbformat": 4,
  "nbformat_minor": 0,
  "metadata": {
    "colab": {
      "name": "test2.ipynb",
      "provenance": [],
      "authorship_tag": "ABX9TyPrLRnxIap1Pk8mtdGow7jQ",
      "include_colab_link": true
    },
    "kernelspec": {
      "name": "python3",
      "display_name": "Python 3"
    }
  },
  "cells": [
    {
      "cell_type": "markdown",
      "metadata": {
        "id": "view-in-github",
        "colab_type": "text"
      },
      "source": [
        "<a href=\"https://colab.research.google.com/github/younginchoi9312/pythonbasic/blob/main/test2.ipynb\" target=\"_parent\"><img src=\"https://colab.research.google.com/assets/colab-badge.svg\" alt=\"Open In Colab\"/></a>"
      ]
    },
    {
      "cell_type": "code",
      "metadata": {
        "colab": {
          "base_uri": "https://localhost:8080/"
        },
        "id": "coD232dzkiLr",
        "outputId": "35a8265a-ae89-4768-a431-fc993f8c2a71"
      },
      "source": [
        "a = int(input()) # int로 숫자 입력가능\r\n",
        "\r\n",
        "re = 0 # re 변수 초기화\r\n",
        "\r\n",
        "for i in range(1, a+1): #for 구문으로 범위를 1부터 a+1 = 즉 a까지 설정\r\n",
        "  if a % i == 0: #만일 입력된 숫자가 범위로 나눳을때 나머지가 0인 경우\r\n",
        "    re += 1 #변수 초기화에 +1\r\n",
        "\r\n",
        "if re == 2: #만일 변수 초기화가 2인 경우\r\n",
        "  print('true') # true를 프린트해라\r\n",
        "else: # 아닌 경우\r\n",
        "  print('false') #false를 프린트해라"
      ],
      "execution_count": 2,
      "outputs": [
        {
          "output_type": "stream",
          "text": [
            "11\n",
            "true\n"
          ],
          "name": "stdout"
        }
      ]
    },
    {
      "cell_type": "code",
      "metadata": {
        "colab": {
          "base_uri": "https://localhost:8080/",
          "height": 260
        },
        "id": "cu65Ub5blW9o",
        "outputId": "ee1cc3e4-4dd9-4d59-9614-54eb2bd635f3"
      },
      "source": [
        "a = int(input(\"n=\")) # int로 숫자 입력 가능\r\n",
        "\r\n",
        "i = 2 # i를 2로 설정\r\n",
        "\r\n",
        "for i in range(2,a): #for 구문으로 범위를 2부터 (숫자입력 -1) 까지 범위 설정\r\n",
        "  if n % i != 0: #만일 숫자입력에서 범위로 나눈 경우 0이 아닐 때\r\n",
        "    message = 'true' #true라는 메시지를 입력해라\r\n",
        "    i += 1 #i+1\r\n",
        "    continue # 계속 이어서\r\n",
        "  elif n % i == 0: #만일 입력 숫자를 범위로 나눈 경우 0일 때\r\n",
        "    message = 'false'#false라는 메시지를 입력해라\r\n",
        "    break # 탈출\r\n",
        "\r\n",
        "print(message) #메시지를 프린트"
      ],
      "execution_count": 5,
      "outputs": [
        {
          "output_type": "stream",
          "text": [
            "n = 11\n"
          ],
          "name": "stdout"
        },
        {
          "output_type": "error",
          "ename": "ValueError",
          "evalue": "ignored",
          "traceback": [
            "\u001b[0;31m---------------------------------------------------------------------------\u001b[0m",
            "\u001b[0;31mValueError\u001b[0m                                Traceback (most recent call last)",
            "\u001b[0;32m<ipython-input-5-e747ee166930>\u001b[0m in \u001b[0;36m<module>\u001b[0;34m()\u001b[0m\n\u001b[0;32m----> 1\u001b[0;31m \u001b[0mn\u001b[0m \u001b[0;34m=\u001b[0m \u001b[0mint\u001b[0m\u001b[0;34m(\u001b[0m\u001b[0minput\u001b[0m\u001b[0;34m(\u001b[0m\u001b[0;34m)\u001b[0m\u001b[0;34m)\u001b[0m \u001b[0;31m# int로 숫자 입력 가능\u001b[0m\u001b[0;34m\u001b[0m\u001b[0;34m\u001b[0m\u001b[0m\n\u001b[0m\u001b[1;32m      2\u001b[0m \u001b[0;34m\u001b[0m\u001b[0m\n\u001b[1;32m      3\u001b[0m \u001b[0mi\u001b[0m \u001b[0;34m=\u001b[0m \u001b[0;36m2\u001b[0m \u001b[0;31m# i를 2로 설정\u001b[0m\u001b[0;34m\u001b[0m\u001b[0;34m\u001b[0m\u001b[0m\n\u001b[1;32m      4\u001b[0m \u001b[0;34m\u001b[0m\u001b[0m\n\u001b[1;32m      5\u001b[0m \u001b[0;32mfor\u001b[0m \u001b[0mi\u001b[0m \u001b[0;32min\u001b[0m \u001b[0mrange\u001b[0m\u001b[0;34m(\u001b[0m\u001b[0;36m2\u001b[0m\u001b[0;34m,\u001b[0m\u001b[0ma\u001b[0m\u001b[0;34m)\u001b[0m\u001b[0;34m:\u001b[0m \u001b[0;31m#for 구문으로 범위를 2부터 (숫자입력 -1) 까지 범위 설정\u001b[0m\u001b[0;34m\u001b[0m\u001b[0;34m\u001b[0m\u001b[0m\n",
            "\u001b[0;31mValueError\u001b[0m: invalid literal for int() with base 10: 'n = 11'"
          ]
        }
      ]
    },
    {
      "cell_type": "code",
      "metadata": {
        "id": "A6YdIuvWnnZ2"
      },
      "source": [
        ""
      ],
      "execution_count": null,
      "outputs": []
    }
  ]
}